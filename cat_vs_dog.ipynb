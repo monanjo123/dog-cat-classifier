{
  "nbformat": 4,
  "nbformat_minor": 0,
  "metadata": {
    "colab": {
      "name": "cat vs dog.ipynb",
      "version": "0.3.2",
      "provenance": [],
      "collapsed_sections": [],
      "include_colab_link": true
    },
    "kernelspec": {
      "name": "python3",
      "display_name": "Python 3"
    },
    "accelerator": "GPU"
  },
  "cells": [
    {
      "cell_type": "markdown",
      "metadata": {
        "id": "view-in-github",
        "colab_type": "text"
      },
      "source": [
        "<a href=\"https://colab.research.google.com/github/monanjo123/dog-cat-classifier/blob/master/cat_vs_dog.ipynb\" target=\"_parent\"><img src=\"https://colab.research.google.com/assets/colab-badge.svg\" alt=\"Open In Colab\"/></a>"
      ]
    },
    {
      "cell_type": "code",
      "metadata": {
        "id": "_tuPutqPch6a",
        "colab_type": "code",
        "outputId": "1985a836-872e-4c14-9f25-f63611d37eb8",
        "colab": {
          "base_uri": "https://localhost:8080/",
          "height": 34
        }
      },
      "source": [
        "from google.colab import drive\n",
        "drive.mount('/drive', force_remount=True)"
      ],
      "execution_count": 0,
      "outputs": [
        {
          "output_type": "stream",
          "text": [
            "Mounted at drive\n"
          ],
          "name": "stdout"
        }
      ]
    },
    {
      "cell_type": "code",
      "metadata": {
        "id": "QWBtq3lWeKG3",
        "colab_type": "code",
        "outputId": "8e559019-3b41-488f-8a9d-b3caa65d9925",
        "colab": {
          "base_uri": "https://localhost:8080/",
          "height": 34
        }
      },
      "source": [
        "%ls drive/\n"
      ],
      "execution_count": 0,
      "outputs": [
        {
          "output_type": "stream",
          "text": [
            "\u001b[0m\u001b[01;34m'My Drive'\u001b[0m/\n"
          ],
          "name": "stdout"
        }
      ]
    },
    {
      "cell_type": "code",
      "metadata": {
        "id": "SvsapXT3eRPv",
        "colab_type": "code",
        "colab": {}
      },
      "source": [
        "import os\n",
        "import zipfile\n",
        "\n",
        "local_zip = 'drive/My Drive/Machine Learning/datasets/cat_vs_dogs_dataset.zip'\n",
        "zip_ref = zipfile.ZipFile(local_zip, 'r')\n",
        "zip_ref.extractall(\"drive/My Drive/Machine Learning/datasets/cat_vs_dog_dataset\")\n",
        "zip_ref.close()"
      ],
      "execution_count": 0,
      "outputs": []
    },
    {
      "cell_type": "code",
      "metadata": {
        "id": "YrhUC7U9oS2y",
        "colab_type": "code",
        "outputId": "d6203641-df76-4e3a-d00a-656a37dd310c",
        "colab": {
          "base_uri": "https://localhost:8080/",
          "height": 34
        }
      },
      "source": [
        "# get filenames\n",
        "path = 'drive/My Drive/Machine Learning/datasets/cat_vs_dog_dataset/datasets/catsvsdogs/images'\n",
        "\n",
        "file_names = [f for f in os.listdir(path) if os.path.isfile(os.path.join(path, f))]\n",
        "\n",
        "print(str(len(file_names)) + ' images loaded')"
      ],
      "execution_count": 0,
      "outputs": [
        {
          "output_type": "stream",
          "text": [
            "3002 images loaded\n"
          ],
          "name": "stdout"
        }
      ]
    },
    {
      "cell_type": "code",
      "metadata": {
        "id": "ehRi7lTdpPF0",
        "colab_type": "code",
        "colab": {}
      },
      "source": [
        "# create train and test dataset\n",
        "import shutil\n",
        "\n",
        "def make_dir(directory):\n",
        "  if os.path.exists(directory):\n",
        "      shutil.rmtree(directory)\n",
        "  os.makedirs(directory)\n",
        "\n",
        "validation_data_dir = 'drive/My Drive/Machine Learning/datasets/cat_vs_dog_dataset/validation'\n",
        "train_data_dir = 'drive/My Drive/Machine Learning/datasets/cat_vs_dog_dataset/train'\n",
        "\n",
        "cat_train_dir = train_data_dir + '/cat'\n",
        "dog_train_dir = train_data_dir + '/dog'\n",
        "cat_validation_dir = validation_data_dir + '/cat'\n",
        "dog_validation_dir = validation_data_dir + '/dog'\n",
        "\n",
        "directories = [validation_data_dir , train_data_dir, cat_train_dir, dog_train_dir, cat_validation_dir, dog_validation_dir]"
      ],
      "execution_count": 0,
      "outputs": []
    },
    {
      "cell_type": "code",
      "metadata": {
        "id": "Ng7BnSjLqaSJ",
        "colab_type": "code",
        "colab": {}
      },
      "source": [
        "for directory in directories:\n",
        "  make_dir(directory)"
      ],
      "execution_count": 0,
      "outputs": []
    },
    {
      "cell_type": "code",
      "metadata": {
        "id": "lsWiSLstqx0w",
        "colab_type": "code",
        "colab": {}
      },
      "source": [
        "import cv2\n",
        "import numpy as np\n",
        "\n",
        "# create validation and train data\n",
        "# 1000 train , 500 validation\n",
        "\n",
        "dog_count = 0\n",
        "cat_count = 0\n",
        "src_path = 'drive/My Drive/Machine Learning/datasets/cat_vs_dog_dataset/datasets/catsvsdogs/images/'\n",
        "for i,file in enumerate(file_names):\n",
        "  if file_names[i][0] == 'd':\n",
        "    if dog_count < 1000:\n",
        "      shutil.copyfile(src_path + file, dog_train_dir + '/' + file)\n",
        "    else:\n",
        "      shutil.copyfile(src_path + file, dog_validation_dir + '/' + file)\n",
        "    dog_count += 1\n",
        "    \n",
        "  if file_names[i][0] == 'c':\n",
        "    if cat_count < 1000:\n",
        "      shutil.copyfile(src_path + file, cat_train_dir + '/' + file)\n",
        "    else:\n",
        "      shutil.copyfile(src_path + file, cat_validation_dir + '/' + file)\n",
        "    cat_count += 1 \n",
        "    \n",
        "  if cat_count == 1000 and dog_count == 100:\n",
        "    break\n",
        "\n",
        "#   print(i, file)\n",
        "  \n",
        "\n"
      ],
      "execution_count": 0,
      "outputs": []
    },
    {
      "cell_type": "code",
      "metadata": {
        "id": "DOwe0nocuhJV",
        "colab_type": "code",
        "outputId": "57ddb7c0-e961-4781-9a5e-48e199b7e0d7",
        "colab": {
          "base_uri": "https://localhost:8080/",
          "height": 85
        }
      },
      "source": [
        "# check number of data\n",
        "\n",
        "print('total training cat images:', len(os.listdir(cat_train_dir)))\n",
        "print('total training dog images:', len(os.listdir(dog_train_dir)))\n",
        "print('total validation cat images:', len(os.listdir(cat_validation_dir)))\n",
        "print('total validation dog images:', len(os.listdir(dog_validation_dir)))"
      ],
      "execution_count": 0,
      "outputs": [
        {
          "output_type": "stream",
          "text": [
            "total training cat images: 1000\n",
            "total training dog images: 1000\n",
            "total validation cat images: 501\n",
            "total validation dog images: 501\n"
          ],
          "name": "stdout"
        }
      ]
    }
  ]
}